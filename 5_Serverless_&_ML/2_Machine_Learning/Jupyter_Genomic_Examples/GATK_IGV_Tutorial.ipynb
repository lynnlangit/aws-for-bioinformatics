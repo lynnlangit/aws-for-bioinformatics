{
 "cells": [
  {
   "cell_type": "markdown",
   "metadata": {},
   "source": [
    "**GATK Tutorial Notebook Demo**\n",
    "\n",
    "This notebook illustrates key features of notebooks that we use in GATK workshops to explore how the tools work. The latest versions of the full GATK workshop tutorials are available in the [Terra Showcase](https://app.terra.bio/#library/showcase), in workspaces that are named following the convention \"GATKTutorials-Topic-MonthYear\"."
   ]
  },
  {
   "cell_type": "markdown",
   "metadata": {},
   "source": [
    "## Setup\n",
    "At the beginning we usually do some setup work to make it easier to move data around and call on the tools we need later on. The setup section can often be copied from notebook to notebook, and the Terra team is looking into some options to formalize this into templates to make it even easier. No one wants to have to look up how to do this stuff; we all want to zip straight through to the science... But bear with me for a minute, we'll get there very soon. "
   ]
  },
  {
   "cell_type": "markdown",
   "metadata": {},
   "source": [
    "### Adjust the runtime configuration\n",
    "*If you already followed this instruction in the workspace Dashboard, you can skip this.*\n",
    "\n",
    "Don't worry, this is pretty straightforward. We want to restart our notebook runtime with a startup script to give it some extra functionality that doesn't come preloaded. Click on the gear icon in the upper right of the window (in the grey \"Notebook Runtime\" box) and set the values in the small form that pops up as specified below (some may already be set correctly):\n",
    "\n",
    "| Runtime Parameter | Value |\n",
    "| ------ | ------ |\n",
    "| CPU | 4 |\n",
    "| Disk size | 50 GB |\n",
    "| Memory | 15 GB |\n",
    "| Startup Script | `gs://gatk-tutorials/scripts/install_gatk_4110_with_igv.sh` |\n",
    "\n",
    "Click the \"Update\" button when you are done, and Terra will begin to create a new runtime with your settings. When it is finished, it will pop up a message asking you to apply the new settings. In the meantime, you can continue with the setup instructions below. "
   ]
  },
  {
   "cell_type": "markdown",
   "metadata": {},
   "source": [
    "### Check your kernel\n",
    "The \"kernel\" of the notebook is the computational engine that actually executes the code in the notebook. For this particular notebook, we're using a Python 3 kernel so we can execute GATK commands using Python Magic (actual technical term, I swear). That allows us to run terminal commands within the Python environment simply by using the `!` prefix. In the upper right corner of the notebook, just under the Notebook Runtime box, it should say `Python3`. If this notebook isn't running a Python 3 kernel, you can switch it by navigating to the Kernel menu in the Jupyter menu bar and selecting `Change kernel`."
   ]
  },
  {
   "cell_type": "markdown",
   "metadata": {},
   "source": [
    "### Grab the workspace bucket identifier\n",
    "\"Bucket\" is the name Google gives to the highest level of data storage container, and every workspace in Terra has a dedicated bucket attached to it. The local storage associated with our notebook is temporary, so when we produce outputs that we want to keep, we copy them to the workspace bucket. "
   ]
  },
  {
   "cell_type": "code",
   "execution_count": null,
   "metadata": {},
   "outputs": [],
   "source": [
    "# Tell Python to look up the relevant environmental variable\n",
    "import os\n",
    "BUCKET = os.environ['WORKSPACE_BUCKET']\n",
    "\n",
    "# Print out the result to make sure what we got makes sense\n",
    "BUCKET"
   ]
  },
  {
   "cell_type": "markdown",
   "metadata": {},
   "source": [
    "When you run the cell above, it outputs the path to where our workspace bucket lives in Google Cloud Storage (GCS). It should look something like this: `'gs://fc-49ee40bd-de62-4b05-89c0-4646d7f325e1'`."
   ]
  },
  {
   "cell_type": "markdown",
   "metadata": {},
   "source": [
    "### Review the tutorial data\n",
    "The data bundle we're using here is a set of pre-processsed BAM files from the mother of the CEU trio, NA12878. We're also providing genome reference files, but note that this is a specially prepared reference that only contains the Human chromosome 20 (from the b37 assembly). We use these data snippets and truncated reference in teaching and testing because they are very ssmall and easier to transfer if needed.\n",
    "\n",
    "The bundle files live in GCS in this location: `gs://gatk-tutorials/notebook-demo/data`. We can list the contents of the tutorial bundle with `gsutil`, a utility toolkit for uploading and managing data in GCS. In both the filepath and the toolkit name, `gs` stands for G(oogle Cloud) S(torage). Why is it sometimes `gs` and sometimes `GCS`? No one knows; it's one of the great remaining mysteries of the universe. "
   ]
  },
  {
   "cell_type": "code",
   "execution_count": null,
   "metadata": {},
   "outputs": [],
   "source": [
    "! gsutil ls -r gs://gatk-tutorials/notebook-demo/data"
   ]
  },
  {
   "cell_type": "markdown",
   "metadata": {},
   "source": [
    "You see that for the `mother` sample there are three types of BAMs; that's because we're including a whole genome sequencing (WGS) example, an exome example, and a bulk RNAseq example. In the next section we'll compare the differences by viewing them in IGV.\n",
    "\n",
    "NOTE: If we wanted to copy files from their permanent location in GCS to the local disk of our notebook runtime under `/home/jupyter-user/`, e.g. to operate on those files with tools that are not capable of streaming directly from GCS, we would use `gsutil` again with the following command. If we want to copy something from the runtime storage to the bucket, ssame command, just flip the order of the paths.  \n",
    "\n",
    "`! gsutil -m cp -r gs://gatk-tutorials/notebook-demo/data/bams /home/jupyter-user/`\n",
    "\n",
    "Finally (for now), let's create a directory where we'll put output files."
   ]
  },
  {
   "cell_type": "code",
   "execution_count": null,
   "metadata": {},
   "outputs": [],
   "source": [
    "! mkdir -p /home/jupyter-user/sandbox/"
   ]
  },
  {
   "cell_type": "markdown",
   "metadata": {},
   "source": [
    "## Data exploration\n",
    "\n",
    "Now that our notebook is all set up and ready to roll, let's load some data into IGV. Specifically, we're going to load the three `mother` BAM files for comparison. But first we need to get IGV up and running. There are three . ways to work with IGV in the cloud, but here we're going to focus on the one that involves embedding an IGV window in the notebook.\n",
    "\n",
    "### Set up IGV\n",
    "\n",
    "The startup script that we ran earlier contained some installation instructions that ensure we have what we need to run IGV in the notebook. As a result we just need to do a one-time import to activate the `igv` Python package, then after that it's just a matter of creating an IGV window wherever we want one. The only parameter we absolutely have to provide is the genome reference; everything else is optional. Though it is really convenient to preset some coordinates to zoom in on -- or you could provide a gene name instead. Note that the name we give the browser (here, `IGV_Explore`) is completely arbitrary."
   ]
  },
  {
   "cell_type": "code",
   "execution_count": null,
   "metadata": {},
   "outputs": [],
   "source": [
    "# First invocation: import the IGV Python package\n",
    "import igv\n",
    "\n",
    "# Create an interactive IGV browser with genome reference and coordinates specified.\n",
    "IGV_Explore = igv.Browser(\n",
    "    {\"genome\": \"hg19\",\n",
    "     \"locus\": \"chr20:10,025,584-10,036,143\"\n",
    "    }\n",
    ")\n",
    "\n",
    "# Tell Python to display it below\n",
    "IGV_Explore.show()"
   ]
  },
  {
   "cell_type": "markdown",
   "metadata": {},
   "source": [
    "When you run this the first time you should see an embedded IGV window that includes the reference genome and a RefSeq gene track, but no actual data tracks. So now let's load in some samples."
   ]
  },
  {
   "cell_type": "markdown",
   "metadata": {},
   "source": [
    "### Load data into IGV\n",
    "\n",
    "For each track that we want to load, we need to provide this same set of metadata: a name for the track, the path to where the file lives in GCS, the format, and whether to look for an index. The index bit is tricky because of reasons we won't go into here, so for now just leave it to `False` in all cases. "
   ]
  },
  {
   "cell_type": "code",
   "execution_count": null,
   "metadata": {},
   "outputs": [],
   "source": [
    "IGV_Explore.load_track(\n",
    "    {\n",
    "        \"name\": \"Mother WGS\",\n",
    "        \"url\": \"gs://gatk-tutorials/notebook-demo/data/bams/mother.bam\",\n",
    "        \"format\": \"bam\",\n",
    "        \"indexed\": False\n",
    "    })"
   ]
  },
  {
   "cell_type": "code",
   "execution_count": null,
   "metadata": {},
   "outputs": [],
   "source": [
    "IGV_Explore.load_track(\n",
    "    {\n",
    "        \"name\": \"Mother Exome\",\n",
    "        \"url\": \"gs://gatk-tutorials/notebook-demo/data/bams/motherNEX.bam\",\n",
    "        \"format\": \"bam\",\n",
    "        \"indexed\": False\n",
    "    })"
   ]
  },
  {
   "cell_type": "code",
   "execution_count": null,
   "metadata": {},
   "outputs": [],
   "source": [
    "IGV_Explore.load_track(\n",
    "    {\n",
    "        \"name\": \"Mother RNAseq\",\n",
    "        \"url\": \"gs://gatk-tutorials/notebook-demo/data/bams/motherRnaseq.bam\",\n",
    "        \"format\": \"bam\",\n",
    "        \"indexed\": False\n",
    "    })"
   ]
  },
  {
   "cell_type": "markdown",
   "metadata": {},
   "source": [
    "Once you've run all three cells above and each of them returned `'OK'` as a result, scroll up and you'll see that you now have three data tracks in your IGV browser: the WGS, Exome and bulk RNAseq versions of the Mother sample, respectively. The grey bars are individual reads, and the spots of colors are missmatches relative to the reference sequence (most mismatches are technical artifacts, but some may corresspond to real variants). \n",
    "\n",
    "The coverage profiles (how much read depth there is at any given spot) are highly typical of those datatypes: the WGS is like a distant mountain range; the Exome is like a series a volcanic islands scattered in the ocean; the RNAseq is a lot like the Exome but with cliffs that correspond to splicing sites, and blue lines that connect exons across intronic regions. If you had never seen data like this before, rejoice -- you are now able to distinguish WGS, Exome and bulk RNAseq data on sight!"
   ]
  },
  {
   "cell_type": "markdown",
   "metadata": {},
   "source": [
    "## Variant calling\n",
    "\n",
    "Ok, looking at sequence data is cool but it doesn't exactly move the needle in terms of identifying variants. Sure, IGV gives you a pretty reasonable back of the envelope estimation of what might look like a variant based on the relative proportions of alleles at any given site, but can you really trust that? Can you? (spoiler: if you could, there wouldn't be a reason for GATK to exist, would there)\n",
    "\n",
    "So let's run HaplotypeCaller, our flagship caller for germline short variants, i.e. SNPs and Indels. \n",
    "\n",
    "### Run HaplotypeCaller in default mode\n",
    "\n",
    "To keep things simple, let's start out by running the tool in normal mode on a single sample, the Mother WGS. "
   ]
  },
  {
   "cell_type": "code",
   "execution_count": null,
   "metadata": {},
   "outputs": [],
   "source": [
    "! gatk HaplotypeCaller \\\n",
    "    -R gs://gatk-tutorials/notebook-demo/data/ref/ref.fasta \\\n",
    "    -I gs://gatk-tutorials/notebook-demo/data/bams/mother.bam \\\n",
    "    -O /home/jupyter-user/sandbox/motherHC.vcf \\\n",
    "    -L 20:10,000,000-10,200,000"
   ]
  },
  {
   "cell_type": "markdown",
   "metadata": {},
   "source": [
    "That sshould take a minute or two to complete... All good? Hey, that was the first GATK command in the notebook, nicely done! We can list the sandbox contents to confirm that the command worked and the VCF of variant calls was created as expected."
   ]
  },
  {
   "cell_type": "code",
   "execution_count": null,
   "metadata": {},
   "outputs": [],
   "source": [
    "! ls /home/jupyter-user/sandbox/"
   ]
  },
  {
   "cell_type": "markdown",
   "metadata": {},
   "source": [
    "So now we have our output VCF, we want to open it up in IGV to do a visual check. \n",
    "\n",
    "### Load the data (BAM and VCF) into IGV\n",
    "\n",
    "Bit of a caveat here: IGV needs the file to be in GCS, but right now it's only in our notebook's local storage, so we need to copy it to the workspace bucket to make it visible to IGV."
   ]
  },
  {
   "cell_type": "code",
   "execution_count": null,
   "metadata": {},
   "outputs": [],
   "source": [
    "! gsutil cp -a public-read /home/jupyter-user/sandbox/* $BUCKET/sandbox"
   ]
  },
  {
   "cell_type": "markdown",
   "metadata": {},
   "source": [
    "Done? Great, now let's make a new IGV browser right here. We're going to look at a different region because we hand-picked a call that we want to inspect."
   ]
  },
  {
   "cell_type": "code",
   "execution_count": null,
   "metadata": {},
   "outputs": [],
   "source": [
    "# Create an interactive IGV browser with genome reference and coordinates specified.\n",
    "IGV_InspectCalls = igv.Browser(\n",
    "    {\"genome\": \"hg19\",\n",
    "     \"locus\": \"chr20:10,002,294-10,002,623\"\n",
    "    }\n",
    ")\n",
    "\n",
    "# Tell Python to display it below\n",
    "IGV_InspectCalls.show()"
   ]
  },
  {
   "cell_type": "code",
   "execution_count": null,
   "metadata": {},
   "outputs": [],
   "source": [
    "# Load the variant track\n",
    "IGV_InspectCalls.load_track(\n",
    "    {\n",
    "        \"name\": \"Mother HC variants\",\n",
    "        \"url\": BUCKET + \"/sandbox/motherHC.vcf\",\n",
    "        \"format\": \"vcf\",\n",
    "        \"indexed\": False\n",
    "    })"
   ]
  },
  {
   "cell_type": "code",
   "execution_count": null,
   "metadata": {},
   "outputs": [],
   "source": [
    "# Load the original sequence data track\n",
    "IGV_InspectCalls.load_track(\n",
    "    {\n",
    "        \"name\": \"Mother WGS\",\n",
    "        \"url\": \"gs://gatk-tutorials/notebook-demo/data/bams/mother.bam\",\n",
    "        \"format\": \"bam\",\n",
    "        \"indexed\": False\n",
    "    })"
   ]
  },
  {
   "cell_type": "markdown",
   "metadata": {},
   "source": [
    "Oh snap -- we have two variant calls, and one makes a ton of sense given what we see in the reads, but the other one not so much. Can you guess which is which? \n",
    "\n",
    "### Troubleshooting a weird call\n",
    "\n",
    "We see that HaplotypeCaller called a homozygous variant insertion of three T bases... How is this possible when so few reads seem to support an insertion at this position? Well, your first reflex when you encounter indel-related weirdness should be to turn on the display of soft-clips, which IGV turns off by default. \n",
    "\n",
    "To turn on soft clips, select the gear symbol to the right of the track and select \"Show soft clips\". You should see the whole area light up in the bright glare of a million mismatches. Uh-oh. Time to generate a \"bamout\" to see what HaplotypeCaller was thinking..."
   ]
  },
  {
   "cell_type": "code",
   "execution_count": null,
   "metadata": {},
   "outputs": [],
   "source": [
    "! gatk HaplotypeCaller \\\n",
    "    -R gs://gatk-tutorials/notebook-demo/data/ref/ref.fasta \\\n",
    "    -I gs://gatk-tutorials/notebook-demo/data/bams/mother.bam \\\n",
    "    -O /home/jupyter-user/sandbox/motherHCdebug.vcf \\\n",
    "    -bamout /home/jupyter-user/sandbox/motherHCdebug.bam \\\n",
    "    -L 20:10,002,000-10,003,000"
   ]
  },
  {
   "cell_type": "markdown",
   "metadata": {},
   "source": [
    "That should run very quickly since we've really narrowed down the region we're processing. And once again, we copy the output to the bucket so it will be visible to IGV. We just re-run the same \"copy all the sandbox contents\" command each time because we're lazy and the transfer within Google's network is so fast it doasn't really matter, but you could identify specific files if you wanted to."
   ]
  },
  {
   "cell_type": "code",
   "execution_count": null,
   "metadata": {},
   "outputs": [],
   "source": [
    "! gsutil cp -a public-read /home/jupyter-user/sandbox/* $BUCKET/sandbox"
   ]
  },
  {
   "cell_type": "code",
   "execution_count": null,
   "metadata": {},
   "outputs": [],
   "source": [
    "# Load the bamout data track\n",
    "IGV_InspectCalls.load_track(\n",
    "    {\n",
    "        \"name\": \"Mother HC bamout\",\n",
    "        \"url\": BUCKET + \"/sandbox/motherHCdebug.bam\",\n",
    "        \"height\": 500,\n",
    "        \"format\": \"bam\",\n",
    "        \"indexed\": False\n",
    "    })"
   ]
  },
  {
   "cell_type": "markdown",
   "metadata": {},
   "source": [
    "Now scroll back up and take another look. What do you think? Does HaplotypeCaller know what it's doing or what?\n",
    "\n",
    "\n",
    "## Next steps\n",
    "\n",
    "There's a lot more to the interpretation of what's going on there than we have time for in our little demo. The full germline short variant discovery tutorial covers how to investigate this case in more detail using IGV and other tools, and how to go on from here to run joint calling on cohorts of any size. It is complemented by companion notebooks that show you how to run different types of filtering approaches (including deep learning with GATK CNN) and how to make plots of annotation distributions to get a better sense of what that all means.\n",
    "\n",
    "Be sure to check out the full tutorials in the [showcase](https://app.terra.bio/#library/showcase) for much more detail about what's going on at the various steps, and to see all the other use cases currently covered by tutorial notebooks, which includes Mutect2 and the somatic copy number (CNV) analysis pipelines (and germlin CNVs are coming soon). You may also want to check out the [Terra Notebooks Playground](https://app.terra.bio/#workspaces/help-gatk/Terra%20Notebooks%20Playground) for cookbook-style examples of how to do common tasks with notebooks in Terra."
   ]
  },
  {
   "cell_type": "code",
   "execution_count": null,
   "metadata": {},
   "outputs": [],
   "source": []
  }
 ],
 "metadata": {
  "kernelspec": {
   "display_name": "Python 3",
   "language": "python",
   "name": "python3"
  },
  "language_info": {
   "codemirror_mode": {
    "name": "ipython",
    "version": 3
   },
   "file_extension": ".py",
   "mimetype": "text/x-python",
   "name": "python",
   "nbconvert_exporter": "python",
   "pygments_lexer": "ipython3",
   "version": "3.6.8"
  },
  "toc": {
   "base_numbering": 1,
   "nav_menu": {},
   "number_sections": true,
   "sideBar": true,
   "skip_h1_title": false,
   "title_cell": "Table of Contents",
   "title_sidebar": "Contents",
   "toc_cell": false,
   "toc_position": {},
   "toc_section_display": true,
   "toc_window_display": false
  }
 },
 "nbformat": 4,
 "nbformat_minor": 2
}
